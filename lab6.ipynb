{
 "cells": [
  {
   "cell_type": "code",
   "execution_count": 11,
   "id": "399443e5-4862-4bc4-8ccc-e1ebdba53241",
   "metadata": {},
   "outputs": [],
   "source": [
    "from typing import Tuple\n",
    "import numpy as np\n",
    "\n",
    "\n",
    "# infinite value\n",
    "INF = 10 ** 6 - 1"
   ]
  },
  {
   "cell_type": "code",
   "execution_count": 12,
   "id": "cd9ee73a-7a21-4b4f-88f6-b12eefba0dc6",
   "metadata": {},
   "outputs": [],
   "source": [
    "def wfi(weight_matrix: np.ndarray, start: int, end: int) -> Tuple[np.ndarray, list]:\n",
    "    \"\"\"\n",
    "    Implementation of the WFI algorithm with recreation of the route between two edges.\n",
    "    Args:\n",
    "        weight_matrix (np.ndarray): Weight matrix representation of the graph.\n",
    "        start (int): Starting node in the route.\n",
    "        end (int): Ending node in the route.\n",
    "    Returns:\n",
    "        np.ndarray: Distance matrix of the WFI algorithm.\n",
    "        list: List of nodes on the route between starting and ending node including starting\n",
    "            and ending node.\n",
    "    \"\"\"\n",
    "    distance = weight_matrix\n",
    "    next = np.full_like(weight_matrix, -1) #init all values to -1\n",
    "\n",
    "    #TODO: Implement the rest of the function.\n",
    "\n",
    "    for i in range(len(distance)):\n",
    "        for j in range(len(distance[i])):\n",
    "            if distance[i][j] != INF and i != j:\n",
    "                next[i][j] = i\n",
    "    \n",
    "    \n",
    "    #WFI algorithm implementation with the next array update\n",
    "    for k in range(len(distance)):\n",
    "        for i in range(len(distance)):\n",
    "            for j in range(len(distance)):\n",
    "                if distance[i][k] + distance[k][j] < distance[i][j]:\n",
    "                    distance[i][j] = distance[i][k] + distance[k][j]\n",
    "                    next[i][j] = next[k][j]\n",
    "\n",
    "    curr = next[start][end]\n",
    "    path = []\n",
    "    while curr != -1:\n",
    "        path.append(curr)\n",
    "        curr = next[start][curr]\n",
    "    path.reverse()\n",
    "    path.append(end)\n",
    "\n",
    "    return distance, path"
   ]
  },
  {
   "cell_type": "code",
   "execution_count": 13,
   "id": "0c05620f-d733-4905-af1a-408652512320",
   "metadata": {},
   "outputs": [],
   "source": [
    "W = [[0, 2, INF, INF],\n",
    "    [INF, 0, 3, -1],\n",
    "    [-1, INF, 0, 7],\n",
    "    [3, INF, INF, 0]]\n",
    "\n",
    "distance, path = wfi(W, 0, 3)\n",
    "\n",
    "assert distance == [[0, 2, 5, 1], [2, 0, 3, -1], [-1, 1, 0, 0], [3, 5, 8, 0]]\n",
    "assert path == [0, 1, 3]"
   ]
  },
  {
   "cell_type": "code",
   "execution_count": null,
   "id": "1ca66bc4-d626-4b6d-a5ac-6e82ac12f2d0",
   "metadata": {},
   "outputs": [],
   "source": []
  }
 ],
 "metadata": {
  "kernelspec": {
   "display_name": "Python (py39)",
   "language": "python",
   "name": "py39"
  },
  "language_info": {
   "codemirror_mode": {
    "name": "ipython",
    "version": 3
   },
   "file_extension": ".py",
   "mimetype": "text/x-python",
   "name": "python",
   "nbconvert_exporter": "python",
   "pygments_lexer": "ipython3",
   "version": "3.9.18"
  }
 },
 "nbformat": 4,
 "nbformat_minor": 5
}
