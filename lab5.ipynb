{
 "cells": [
  {
   "cell_type": "code",
   "execution_count": 4,
   "id": "7bf9b343-91b2-4837-8ed0-16eb7f7d2199",
   "metadata": {},
   "outputs": [],
   "source": [
    "from typing import Tuple"
   ]
  },
  {
   "cell_type": "code",
   "execution_count": 5,
   "id": "673478d9-f8ba-49fc-8f4d-7f59d57f498f",
   "metadata": {},
   "outputs": [],
   "source": [
    "def rabin_karp(pattern: str, txt: str, q: int = 101, d: int = 256) -> list:\n",
    "    \"\"\"\n",
    "    Implementation of the Rabin Karp algorithm for \n",
    "    searching longest prefix in dictionary.\n",
    "    Args:\n",
    "        pattern (str): Input pattern.\n",
    "        txt (str): Input text.\n",
    "        d (int): Number of characters in the input alphabet.\n",
    "    Returns:\n",
    "        list: Starting indices.\n",
    "    \"\"\"\n",
    "    M, N, i, j, p, t, h = len(pattern), len(txt), 0, 0, 0, 0, 1\n",
    "    res = []\n",
    "    for i in range(M - 1):\n",
    "        h = (h*d) % q\n",
    "    for i in range(M):\n",
    "        p = (d*p + ord(pattern[i])) % q\n",
    "        t = (d*t + ord(txt[i])) % q\n",
    "    for i in range(N - M + 1):\n",
    "        if p == t:\n",
    "            for j in range(M):\n",
    "                if txt[i+j] != pattern[j]:\n",
    "                    break\n",
    "                else:\n",
    "                    j += 1\n",
    "            if j == M:\n",
    "                res.append(i)\n",
    "        if i < N - M:\n",
    "            t = (d * (t - ord(txt[i]) * h) + ord(txt[i+M])) % q\n",
    "            if t < 0:\n",
    "                t = t + q\n",
    "    return res\n",
    "\n",
    "\n",
    "def search_string(D: list, L: list, dict_len: int = 4) -> Tuple[int, int]:\n",
    "    \"\"\"\n",
    "    Search string in dictionary.\n",
    "    Args:\n",
    "        D (list): Dictionary list.\n",
    "        L (list): Lookahead list.\n",
    "        dict_len (int): Length of dictionary.\n",
    "    Returns:\n",
    "        Tuple [int, int]: Tuple containing distance from the end \n",
    "             of the dictionary of the longest prefix and length of the\n",
    "             longest prefix (is always less or equal than the length of lookahead).\n",
    "             If no prefix is found in dictionary return (-1, -1).\n",
    "    \"\"\"\n",
    "    for j in range(len(L), 0, -1):\n",
    "        r1 = rabin_karp(L[0:j], D + L)\n",
    "        r2 = list(filter(lambda x: x < dict_len, r1))\n",
    "        if len(r2) > 0:\n",
    "           i = (dict_len - 1) - max(r2)\n",
    "           return (i, j)\n",
    "    return (-1, -1)\n",
    "    \n"
   ]
  },
  {
   "cell_type": "code",
   "execution_count": 18,
   "id": "9c8df2f6-7972-4152-9260-4f2586f14580",
   "metadata": {},
   "outputs": [],
   "source": [
    "def LZ77_encode(input:str, dict_len:int=4, la_len:int=4) -> list:\n",
    "    \"\"\"\n",
    "    Function implements the LZ77 encoding algorithm.\n",
    "    Args:\n",
    "        input (str): Input string to the algorithm.\n",
    "        dict_len (int): Lenght of the dictionary.\n",
    "        la_len (int): Lenght of the lookahead.\n",
    "    Returns:\n",
    "        list: List where the first element is the first character and subsequent elements are tuple (i,j,k)\n",
    "    \"\"\"\n",
    "    res = []\n",
    "    res.append(input[0])\n",
    "    D = input[0] * dict_len\n",
    "    L = input[:la_len]\n",
    "    input = input[la_len:]\n",
    "    while L != '':\n",
    "        search_result = search_string(D, L, dict_len)\n",
    "        curr_output = None\n",
    "        if search_result[0] == -1 and search_result[1] == -1:\n",
    "            curr_output = (0,0,L[0])\n",
    "        elif search_result[1] == len(L):\n",
    "            curr_output = (search_result[0],search_result[1]-1,L[-1])\n",
    "        else:\n",
    "            curr_output = (search_result[0],search_result[1],L[search_result[1]])\n",
    "        res.append(curr_output)\n",
    "        \n",
    "        S = D + L + input\n",
    "        D = S[curr_output[1]+1:curr_output[1]+1 + dict_len]\n",
    "        L = S[curr_output[1]+1 + dict_len:curr_output[1]+1 + dict_len + la_len]\n",
    "        input = S[curr_output[1]+1+dict_len+la_len:]\n",
    "    \n",
    "    return res\n",
    "            \n",
    "    "
   ]
  },
  {
   "cell_type": "code",
   "execution_count": 19,
   "id": "a8b45604-0861-4194-96d0-aec319c3c905",
   "metadata": {},
   "outputs": [
    {
     "data": {
      "text/plain": [
       "['A', (0, 1, 'B'), (0, 0, 'C'), (2, 3, 'A'), (2, 2, 'E')]"
      ]
     },
     "execution_count": 19,
     "metadata": {},
     "output_type": "execute_result"
    }
   ],
   "source": [
    "LZ77_encode(\"ABCABCABCE\",4,4)"
   ]
  },
  {
   "cell_type": "code",
   "execution_count": 8,
   "id": "37a7c56a-d961-4d4a-bf52-760abf69d2ac",
   "metadata": {},
   "outputs": [
    {
     "data": {
      "text/plain": [
       "'rfr'"
      ]
     },
     "execution_count": 8,
     "metadata": {},
     "output_type": "execute_result"
    }
   ],
   "source": [
    "'eqfrfr'[3:]"
   ]
  },
  {
   "cell_type": "code",
   "execution_count": null,
   "id": "a27ceaff-4cab-4e7e-8647-627add1d7d5d",
   "metadata": {},
   "outputs": [],
   "source": []
  }
 ],
 "metadata": {
  "kernelspec": {
   "display_name": "Python (py39)",
   "language": "python",
   "name": "py39"
  },
  "language_info": {
   "codemirror_mode": {
    "name": "ipython",
    "version": 3
   },
   "file_extension": ".py",
   "mimetype": "text/x-python",
   "name": "python",
   "nbconvert_exporter": "python",
   "pygments_lexer": "ipython3",
   "version": "3.9.18"
  }
 },
 "nbformat": 4,
 "nbformat_minor": 5
}
