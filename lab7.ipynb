{
 "cells": [
  {
   "cell_type": "code",
   "execution_count": 11,
   "id": "1dd07d21-cd23-4bdd-96c3-adb50920bad1",
   "metadata": {},
   "outputs": [],
   "source": [
    "from collections import deque\n",
    "from typing import List, Dict, Tuple\n",
    "\n",
    "\n",
    "Graph = Dict[str, List[str]]\n",
    "Circuit = List[str]\n",
    "EulerPath = List[str]\n",
    "\n",
    "\n",
    "def augmented_hierholzer(G: Graph, start: str) -> Tuple[EulerPath, List[Circuit]]:\n",
    "    \"\"\"\n",
    "    Args:\n",
    "        G (Graph): A Graph as an adjacency matrix. Assumed to be Eulerian.\n",
    "        start (str): Starting node for the Hierholzer algorithm.\n",
    "    Returns:\n",
    "        Tuple[EulerPath, List[Circuit]]: A tuple containing an Eulerian path in the Euler graph\n",
    "        and a list of all the circuits found on the path.\n",
    "    \"\"\"\n",
    "    stack = deque()\n",
    "    stack.append(start)\n",
    "    \n",
    "    #TODO: \n",
    "    cycle=[]\n",
    "    all_cycles=[]\n",
    "    \n",
    "    while stack:\n",
    "        u = stack[-1]\n",
    "        adj = G[u]\n",
    "        if len(adj) > 0:\n",
    "            v = G[u][0]\n",
    "            stack.append(v)\n",
    "            G[u].remove(v)\n",
    "            G[v].remove(u)\n",
    "        else:\n",
    "            #TODO:\n",
    "            curr = stack.pop()\n",
    "            indexes = [i for i in range(len(cycle)) if cycle[i] == curr]\n",
    "            cycle.append(curr)\n",
    "            if len(indexes) > 0: all_cycles.append(cycle[indexes[-1]:])\n",
    "    \n",
    "            \n",
    "    return cycle, all_cycles"
   ]
  },
  {
   "cell_type": "code",
   "execution_count": 9,
   "id": "27cc6bb9-8384-403b-bcf9-e2df2e0d5a83",
   "metadata": {},
   "outputs": [
    {
     "name": "stdout",
     "output_type": "stream",
     "text": [
      "d\n",
      "e\n",
      "b\n",
      "d\n",
      "a\n",
      "e\n",
      "c\n",
      "a\n",
      "b\n",
      "['d', 'e', 'b', 'd', 'a', 'e', 'c', 'a', 'b']\n"
     ]
    }
   ],
   "source": [
    "import copy\n",
    "\n",
    "G = {'a': ['b', 'c', 'd', 'e'],\n",
    "     'b': ['a', 'd', 'e'],\n",
    "     'c': ['a', 'e'],\n",
    "     'd': ['a', 'b', 'e'],\n",
    "     'e': ['a', 'b', 'c', 'd']}\n",
    "     \n",
    "G1 = copy.deepcopy(G)\n",
    "\n",
    "path, circles = augmented_hierholzer(G1, 'b')\n",
    "print(path)\n",
    "path.reverse()\n",
    "\n",
    "assert path == ['b', 'a', 'c', 'e', 'a', 'd', 'b', 'e', 'd']"
   ]
  },
  {
   "cell_type": "code",
   "execution_count": 12,
   "id": "7802b440-1102-498e-8ced-8f54fc60004c",
   "metadata": {},
   "outputs": [],
   "source": [
    "import copy\n",
    "\n",
    "G = {'a': ['b', 'c', 'd', 'e'],\n",
    "     'b': ['a', 'd', 'e'],\n",
    "     'c': ['a', 'e'],\n",
    "     'd': ['a', 'b', 'e'],\n",
    "     'e': ['a', 'b', 'c', 'd']}\n",
    "     \n",
    "G1 = copy.deepcopy(G)\n",
    "\n",
    "path, circles = augmented_hierholzer(G1, 'b')\n",
    "path.reverse()\n",
    "\n",
    "assert path == ['b', 'a', 'c', 'e', 'a', 'd', 'b', 'e', 'd']\n",
    "assert circles == [['d', 'e', 'b', 'd'], ['e', 'b', 'd', 'a', 'e'], ['a', 'e', 'c', 'a'], ['b', 'd', 'a', 'e', 'c', 'a', 'b']]\n",
    "\n",
    "G1 = copy.deepcopy(G)\n",
    "\n",
    "path, circles = augmented_hierholzer(G1, 'd')\n",
    "path.reverse()\n",
    "\n",
    "assert path == ['d', 'a', 'b', 'd', 'e', 'a', 'c', 'e', 'b']\n",
    "assert circles == [['e', 'c', 'a', 'e'], ['b', 'e', 'c', 'a', 'e', 'd', 'b'], ['a', 'e', 'd', 'b', 'a'], ['d', 'b', 'a', 'd']]"
   ]
  },
  {
   "cell_type": "code",
   "execution_count": null,
   "id": "72d0365f-6da3-4e6b-a504-63db7d95cc19",
   "metadata": {},
   "outputs": [],
   "source": []
  }
 ],
 "metadata": {
  "kernelspec": {
   "display_name": "Python (py39)",
   "language": "python",
   "name": "py39"
  },
  "language_info": {
   "codemirror_mode": {
    "name": "ipython",
    "version": 3
   },
   "file_extension": ".py",
   "mimetype": "text/x-python",
   "name": "python",
   "nbconvert_exporter": "python",
   "pygments_lexer": "ipython3",
   "version": "3.9.18"
  }
 },
 "nbformat": 4,
 "nbformat_minor": 5
}
