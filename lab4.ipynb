{
 "cells": [
  {
   "cell_type": "code",
   "execution_count": 1,
   "id": "0bfa61f0-0293-4bf1-a838-75ac88167e3c",
   "metadata": {},
   "outputs": [],
   "source": []
  },
  {
   "cell_type": "code",
   "execution_count": 10,
   "id": "e5467051-f183-4c0d-88c9-7914a2b27da2",
   "metadata": {},
   "outputs": [],
   "source": [
    "from statistics import median\n",
    "from typing import Tuple, List\n",
    "from collections import namedtuple\n",
    "\n",
    "Point = namedtuple('Point', ['x', 'y'])\n",
    "\"\"\"A class representing a single point. Attributes can be accessed like a tuple via the '[]' operators or\n",
    "by name, i.e. point.x == p[0].\n",
    "\n",
    "...\n",
    "\n",
    "Attibutes\n",
    "---------\n",
    "\n",
    "x: float\n",
    "    Value of the x coordinate of the Point.\n",
    "y: float\n",
    "    Value of the y coordinate of the Point.\n",
    "\"\"\"\n",
    "\n",
    "class Node:\n",
    "    \"\"\"Class representing a single node in the PriorityTree.\n",
    "    Contains a median and a point.    \n",
    "    ...\n",
    "\n",
    "    Attributes\n",
    "    ----------\n",
    "    \n",
    "    med: float\n",
    "        Value of the median contained in the node.\n",
    "    point: Point\n",
    "        The Point contained in the Node.\n",
    "    \"\"\"\n",
    "\n",
    "    def __init__(self, point: Point, med: float) -> None:\n",
    "        self.point = point\n",
    "        self.med = med\n",
    "\n",
    "    def __repr__(self):\n",
    "        return f'Node{self.point, self.med}'\n",
    "    \n",
    "\n",
    "INF = float('inf')\n",
    "\"\"\"Constant for infinite value.\"\"\"\n",
    "\n",
    "INF_POINT = Point(-INF, -INF)\n",
    "\"\"\"A point at negative infinity in both x and y directions. Used to represent non-existant points.\"\"\"\n",
    "\n",
    "INF_NODE = Node(INF_POINT, -INF)\n",
    "\"\"\"A node with a negative inifnity point and median. Used to represent non-existant nodes.\"\"\"\n",
    "\n",
    "def from_points_help(result: List[Node], points: List[Point], start_index: int = 0) -> List[Node]:\n",
    "    \"\"\"Helper method for recursively constructing a priority tree (list of Nodes).\n",
    "\n",
    "    Args:\n",
    "        result (List[Node]): The current tree.\n",
    "        points (List[Point]): The points that need to be contained in the tree.\n",
    "        start_index (int): The index of the node we are currently located at.\n",
    "\n",
    "    Returns:\n",
    "        List[Node]: The constructed tree. The first argument.\n",
    "    \"\"\"\n",
    "    if not points:\n",
    "        return result\n",
    "    first_point = points.pop(0)\n",
    "    node = Node(first_point, first_point.x)\n",
    "    n_nodes = len(result)\n",
    "    for _ in range(start_index - n_nodes + 1):\n",
    "        result.append(INF_NODE)\n",
    "    result[start_index] = node\n",
    "    if points:\n",
    "        med = median(map(lambda point: point.x, points))\n",
    "        node.med = med\n",
    "        points_left = list(filter(lambda point: point.x <= med, points))\n",
    "        points_right = list(filter(lambda point: point.x > med, points))\n",
    "        result = from_points_help(result, points_left, start_index=2 * start_index + 1)\n",
    "        result = from_points_help(result, points_right, start_index=2 * start_index + 2)\n",
    "    return result\n",
    "\n",
    "\n",
    "def from_points(points: List[Point]) -> List[Node]:\n",
    "    \"\"\"Function used to construct a priority tree from a list of Point.\n",
    "\n",
    "    Args:\n",
    "        points (List[Point]): A list of points that the priority tree will contain.\n",
    "    \n",
    "    Returns:\n",
    "        List[Node]: The constructed tree.\n",
    "    \"\"\"\n",
    "    if not points:\n",
    "        return []\n",
    "    points = list(sorted(points, key=lambda point: -point.y))\n",
    "    result = []\n",
    "    return from_points_help(result, points, 0)\n",
    "\n",
    "def get_node(tree: List[Node], index: int) -> Node:\n",
    "    \"\"\"Get the node at the specified index in the tree or the INF_NODE if the node\n",
    "    is not in the tree.\n",
    "\n",
    "    Args:\n",
    "        tree (List[Node]): The priority tree.\n",
    "        index (int): Index of the node in the tree.\n",
    "\n",
    "    Returns:\n",
    "        Node: The node at the specified index or INF_NODE if such a node does not exist.\n",
    "    \"\"\"\n",
    "    if index >= len(tree):\n",
    "        return INF_NODE\n",
    "    return tree[index]\n",
    "\n",
    "def query_priority_subtree(tree: List[Node], index: int, limit_value: float) -> List[Point]:\n",
    "    \"\"\"Helper function for querying a subtree of the priority tree.\n",
    "\n",
    "    Args:\n",
    "        tree (List[Node]): The priority tree.\n",
    "        index (int): The index of the starting node.\n",
    "        limit_value (float): The limit of the y coordinate.\n",
    "    \n",
    "    Returns:\n",
    "        List[Point]: Points from the subtree that are within the limit on the y coordinate.\n",
    "    \"\"\"\n",
    "    result = []\n",
    "    node = get_node(tree, index)\n",
    "    has_at_least_one_child = (2*index +1 < len(tree) and tree[2*index +1] is not None) or (2*index +2 < len(tree) and tree[2*index +2] is not None)\n",
    "    if  node is not INF_NODE and node.point.y >= limit_value: # TODO: Replace the condition\n",
    "        result.append(node.point)\n",
    "        result += query_priority_subtree(tree, 2*index + 1, limit_value)\n",
    "        result += query_priority_subtree(tree, 2*index + 2, limit_value)\n",
    "    return result\n",
    "\n",
    "def query(tree: List[Node], interval: Tuple[float, float], limit: float) -> List[Point]:\n",
    "    \"\"\"Query the priority tree for the points contained in a specified interval [x1, x2]x[y, inf].\n",
    "    Meaning that there is an interval on the X coordinate, but there is no upper bound on the Y coordinate. \n",
    "\n",
    "    Args:\n",
    "        tree (List[Node]): The priority tree.\n",
    "        interval (Tuple[float, float]): The interval on the X coordinate, i.e. [x1, x2]\n",
    "        limit (float): The lower limit of the Y coordinate value, i.e. [limit, infinity]\n",
    "\n",
    "    Returns:\n",
    "        List[Point]: A list of points contained within the interval [interval[0], interval[1]]x[limit, infinity], i.e. [x1, x2]x[y, infinity]\n",
    "    \"\"\"\n",
    "    if not tree:\n",
    "        return []\n",
    "    result = []\n",
    "    index = 0    \n",
    "    node = get_node(tree, index)\n",
    "    while node is not None and node is not INF_NODE and \\\n",
    "        (interval[0] > node.med or interval[1] < node.med):\n",
    "        point = node.point\n",
    "        if point.x >= interval[0] and point.x <= interval[1] and point.y >= limit: # TODO: Replace the condition\n",
    "            result.append(point)\n",
    "    \n",
    "        if interval[1] < node.med:\n",
    "            index = index*2+1\n",
    "        else:\n",
    "            index = index*2+2\n",
    "        node = get_node(tree, index)\n",
    "    \n",
    "    if node is None or node is INF_NODE:\n",
    "        return result\n",
    "    \n",
    "    point = node.point\n",
    "    if point.x >= interval[0] and point.x <= interval[1] and point.y >= limit: # TODO: Replace the condition\n",
    "        result.append(point)\n",
    "\n",
    "    node_index = index\n",
    "    index = 2 * node_index + 1\n",
    "    node = get_node(tree, index)\n",
    "    while node is not None and node is not INF_NODE and node.point.y >= limit: # TODO: Replace the condition\n",
    "        point = node.point\n",
    "        # TODO: Add the point to the result (if it is in the query interval), query_priority_subtree if necessary and update the current index\n",
    "        if point.x >= interval[0] and point.x <= interval[1] and point.y >= limit: # TODO: Replace the condition\n",
    "            result.append(point)\n",
    "        if interval[0] <= node.med and interval[1] >= node.med:\n",
    "            result.extend(query_priority_subtree(tree, 2*index+2, limit))\n",
    "            index = 2*index+1\n",
    "        else:\n",
    "            index = 2*index+2\n",
    "        node = get_node(tree, index)\n",
    "    \n",
    "    index = 2 * node_index + 2\n",
    "    node = get_node(tree, index)\n",
    "    while node is not None and node is not INF_NODE and node.point.y >= limit: # TODO: Replace the condition\n",
    "        point = node.point\n",
    "        # TODO: Add the point to the result (if it is in the query interval), query_priority_subtree if necessary and update the current index\n",
    "        if point.x >= interval[0] and point.x <= interval[1] and point.y >= limit: # TODO: Replace the condition\n",
    "            result.append(point)\n",
    "        if interval[0] <= node.med and interval[1] >= node.med:\n",
    "            result.extend(query_priority_subtree(tree, 2*index+1, limit))\n",
    "            index = 2*index+2\n",
    "        else:\n",
    "            index = 2*index+1\n",
    "        node = get_node(tree, index)\n",
    "    return result"
   ]
  },
  {
   "cell_type": "code",
   "execution_count": 11,
   "id": "4a520553-7d39-4030-b650-43b23c2eba42",
   "metadata": {},
   "outputs": [],
   "source": [
    "TEST_POINTS = [Point(-5.5, -5.0),\n",
    "               Point(6.5, 2.0),\n",
    "               Point(-3.5, 2.5),\n",
    "               Point(4.5, 1.0),\n",
    "               Point(2.0, -2.0),\n",
    "               Point(-1.0, 4.0),\n",
    "               Point(2.5, 0.5),\n",
    "               Point(-0.5, -0.5),\n",
    "               Point(1.0, 1.0),\n",
    "               Point(-2.0, -2.5),\n",
    "               Point(3.0, 4.0),\n",
    "               Point(7.0, 0.0),\n",
    "               Point(-4.5, -1.0),\n",
    "               Point(3.5, -1.5),\n",
    "               Point(5.5, -3.0),\n",
    "               Point(3.5, 2.5),\n",
    "               Point(6.0, 5.0),\n",
    "               Point(-3.0, 0.0)]\n",
    "\n",
    "tree = from_points(TEST_POINTS)\n",
    "result = query(tree, (-1.5, 5.0), -1.75)\n",
    "\n",
    "expected = [Point(x=-1.0, y=4.0), Point(x=1.0, y=1.0), Point(x=-0.5, y=-0.5), Point(x=3.0, y=4.0), Point(x=3.5, y=2.5), Point(x=2.5, y=0.5), Point(x=3.5, y=-1.5), Point(x=4.5, y=1.0)]\n",
    "\n",
    "assert sorted(result) == sorted(expected)"
   ]
  },
  {
   "cell_type": "code",
   "execution_count": 3,
   "id": "61c2825e-1c29-44b3-84b5-0f2249ed179a",
   "metadata": {},
   "outputs": [
    {
     "data": {
      "text/plain": [
       "[Point(x=-1.0, y=4.0),\n",
       " Point(x=1.0, y=1.0),\n",
       " Point(x=-0.5, y=-0.5),\n",
       " Point(x=3.0, y=4.0),\n",
       " Point(x=3.5, y=2.5),\n",
       " Point(x=2.5, y=0.5)]"
      ]
     },
     "execution_count": 3,
     "metadata": {},
     "output_type": "execute_result"
    }
   ],
   "source": [
    "result\n"
   ]
  },
  {
   "cell_type": "code",
   "execution_count": 4,
   "id": "1397100d-137b-4147-b1dc-195c3f72a686",
   "metadata": {},
   "outputs": [
    {
     "data": {
      "text/plain": [
       "[Point(x=-1.0, y=4.0),\n",
       " Point(x=1.0, y=1.0),\n",
       " Point(x=-0.5, y=-0.5),\n",
       " Point(x=3.0, y=4.0),\n",
       " Point(x=3.5, y=2.5),\n",
       " Point(x=2.5, y=0.5),\n",
       " Point(x=3.5, y=-1.5),\n",
       " Point(x=4.5, y=1.0)]"
      ]
     },
     "execution_count": 4,
     "metadata": {},
     "output_type": "execute_result"
    }
   ],
   "source": [
    "expected"
   ]
  },
  {
   "cell_type": "code",
   "execution_count": 11,
   "id": "f6a17d20-c212-4cd2-9a2f-9045a7584b66",
   "metadata": {},
   "outputs": [
    {
     "name": "stdout",
     "output_type": "stream",
     "text": [
      "0: Node(Point(x=6.0, y=5.0), 2.0)\n",
      "1: Node(Point(x=-1.0, y=4.0), -2.5)\n",
      "2: Node(Point(x=3.0, y=4.0), 4.5)\n",
      "3: Node(Point(x=-3.5, y=2.5), -4.5)\n",
      "4: Node(Point(x=1.0, y=1.0), -0.5)\n",
      "5: Node(Point(x=3.5, y=2.5), 3.5)\n",
      "6: Node(Point(x=6.5, y=2.0), 6.25)\n",
      "7: Node(Point(x=-4.5, y=-1.0), -5.5)\n",
      "8: Node(Point(x=-3.0, y=0.0), -3.0)\n",
      "9: Node(Point(x=-0.5, y=-0.5), -2.0)\n",
      "10: Node(Point(x=2.0, y=-2.0), 2.0)\n",
      "11: Node(Point(x=2.5, y=0.5), 3.5)\n",
      "12: Node(Point(x=4.5, y=1.0), 4.5)\n",
      "13: Node(Point(x=5.5, y=-3.0), 5.5)\n",
      "14: Node(Point(x=7.0, y=0.0), 7.0)\n",
      "15: Node(Point(x=-5.5, y=-5.0), -5.5)\n",
      "16: Node(Point(x=-inf, y=-inf), -inf)\n",
      "17: Node(Point(x=-inf, y=-inf), -inf)\n",
      "18: Node(Point(x=-inf, y=-inf), -inf)\n",
      "19: Node(Point(x=-2.0, y=-2.5), -2.0)\n",
      "20: Node(Point(x=-inf, y=-inf), -inf)\n",
      "21: Node(Point(x=-inf, y=-inf), -inf)\n",
      "22: Node(Point(x=-inf, y=-inf), -inf)\n",
      "23: Node(Point(x=3.5, y=-1.5), 3.5)\n"
     ]
    }
   ],
   "source": [
    "for i,n in enumerate(tree):\n",
    "    print(f\"{i}: {n}\")"
   ]
  },
  {
   "cell_type": "code",
   "execution_count": 6,
   "id": "4a2dc6fb-f6c7-4bb5-aad3-1d9e88905af3",
   "metadata": {},
   "outputs": [],
   "source": [
    "def lr(i):\n",
    "    return 2*i+1, 2*i+2"
   ]
  },
  {
   "cell_type": "code",
   "execution_count": 7,
   "id": "5d38fb9c-0085-49f0-9ec9-2280a9c7df21",
   "metadata": {},
   "outputs": [
    {
     "data": {
      "text/plain": [
       "(3, 4)"
      ]
     },
     "execution_count": 7,
     "metadata": {},
     "output_type": "execute_result"
    }
   ],
   "source": [
    "lr(1)"
   ]
  },
  {
   "cell_type": "code",
   "execution_count": 8,
   "id": "0e1dbdce-56de-4797-bcc8-42e0623aeb89",
   "metadata": {},
   "outputs": [
    {
     "data": {
      "text/plain": [
       "(3, 4)"
      ]
     },
     "execution_count": 8,
     "metadata": {},
     "output_type": "execute_result"
    }
   ],
   "source": [
    "lr(1)"
   ]
  },
  {
   "cell_type": "code",
   "execution_count": 9,
   "id": "a9b41039-36b9-4e9f-a51d-d5f8b8a9459b",
   "metadata": {},
   "outputs": [
    {
     "data": {
      "text/plain": [
       "(23, 24)"
      ]
     },
     "execution_count": 9,
     "metadata": {},
     "output_type": "execute_result"
    }
   ],
   "source": [
    "lr(11)"
   ]
  },
  {
   "cell_type": "code",
   "execution_count": null,
   "id": "fce58db4-7e13-4b65-a53d-c76375bde4ab",
   "metadata": {},
   "outputs": [],
   "source": []
  }
 ],
 "metadata": {
  "kernelspec": {
   "display_name": "Python (py39)",
   "language": "python",
   "name": "py39"
  },
  "language_info": {
   "codemirror_mode": {
    "name": "ipython",
    "version": 3
   },
   "file_extension": ".py",
   "mimetype": "text/x-python",
   "name": "python",
   "nbconvert_exporter": "python",
   "pygments_lexer": "ipython3",
   "version": "3.9.18"
  }
 },
 "nbformat": 4,
 "nbformat_minor": 5
}
